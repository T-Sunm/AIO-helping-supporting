{
 "cells": [
  {
   "cell_type": "markdown",
   "metadata": {},
   "source": [
    "Cho một tập ảnh gồm 1000 ảnh, trong đó có 400 ảnh là ảnh mèo và 600 ảnh còn lại là ảnh\n",
    "không phải mèo (là ảnh con chó, ảnh tivi, ảnh cây cối...) Xây dựng một cỗ máy tìm kiếm\n",
    "(search engine) để tìm kiếm ảnh theo từ khóa nhập vào. Khi mình gõ chữ “mèo” để tìm kiếm\n",
    "ảnh “mèo” thì kết quả cỗ máy tìm kiếm trả về 100 ảnh, trong đó có 98 ảnh mèo và 2 ảnh\n",
    "không phải mèo.\n",
    "\n",
    "**Câu 1** :\n",
    "Hãy xác định TP, TN, FP, FN dựa theo thông tin dưới đây:\n",
    "- 98 ảnh mèo (trong 100 ảnh do search engine trả về) được gọi là gì? $Ans : TP$\n",
    "- 2 ảnh không phải mèo (trong 100 ảnh do search engine trả về) được gọi là gì? $Ans : FP$\n",
    "- 100 ảnh do search engine trả về được gọi là gì? $Ans : Predict Positive (TP + FP)$\n",
    "- 302 ảnh mèo còn lại (400 ảnh mèo – 98 ảnh mèo) được gọi là gì? $Ans : FN$\n",
    "- 598 ảnh không phải mèo còn lại (600 ảnh không phải mèo – 2 ảnh không phải mèo)\n",
    "được gọi là gì? $Ans : TN$\n",
    " \n"
   ]
  },
  {
   "cell_type": "code",
   "execution_count": 1,
   "metadata": {},
   "outputs": [
    {
     "name": "stdout",
     "output_type": "stream",
     "text": [
      "Accuracy : 0.696\n",
      "Precision and Recall :0.98 - 0.245\n",
      "F1 Score : 0.39199999999999996\n",
      "Specificity : 0.9966666666666667\n"
     ]
    }
   ],
   "source": [
    "TP = 98\n",
    "TN = 598\n",
    "FP = 2\n",
    "FN = 302\n",
    "\n",
    "Accuracy = (TP + TN) / (TP + TN + FP + FN)\n",
    "Precision = (TP / (TP + FP))\n",
    "Recall = (TP / (TP + FN))\n",
    "F1_Score = 2 * ((Precision * Recall) / (Precision + Recall))\n",
    "Specificity = TN / (TN + FP)\n",
    "\n",
    "print(\"Accuracy :\", Accuracy)\n",
    "print(f\"Precision and Recall :{Precision} - {Recall}\")\n",
    "print(\"F1 Score :\",F1_Score)\n",
    "print(\"Specificity :\",Specificity)"
   ]
  },
  {
   "cell_type": "markdown",
   "metadata": {},
   "source": [
    "Precision: Precision của mô hình rất cao (0.98), cho thấy rằng trong các ảnh mà mô hình dự đoán là mèo, 98% là chính xác.\n",
    "\n",
    "Recall: Recall của mô hình khá thấp (0.245), cho thấy mô hình chỉ tìm ra được 24.5% tổng số ảnh mèo thực sự. Cho thấy mô hình bỏ sót khá nhiều ảnh mèo.\n",
    "\n",
    "F1 Score: F1 Score của mô hình là 0.392, chỉ số này cho thấy sự cân bằng giữa Precision và Recall. Mặc dù Precision cao, nhưng Recall thấp làm giảm F1 Score tổng thể.\n",
    "\n",
    "Specificity = 0.9967 . Nghĩa là mô hình có khả năng dự đoán tốt các ảnh không phải mèo. "
   ]
  },
  {
   "cell_type": "markdown",
   "metadata": {},
   "source": [
    "- Precision sẽ cần được coi trọng hơn khi lựa chọn model với các bài toán cụ thể khi mà việc nhận nhầm False Positive mang lại kêt quả tồi tệ. Ví dụ với bài toán chặn Spam Mail, khi đó việc nhận nhầm FP (nhầm 1 mail thường thành mail spam) sẽ làm ảnh hưởng đến công việc của người dùng vì miss một cái mail quan trọng (ví dụ hợp đồng hàng nghìn tỷ).\n",
    "- Recall nên được gán trọng số cao hơn khi mà việc nhận nhầm các sample True Positive thành False Negative mang lại hậu quả khôn lường. Ví dụ bài toán phát hiện bệnh ung thư, việc nhận nhầm người Ung thư thành người bình thường và trả về nhà không điều trị sớm thì… not good."
   ]
  }
 ],
 "metadata": {
  "kernelspec": {
   "display_name": "40daysPython_env",
   "language": "python",
   "name": "python3"
  },
  "language_info": {
   "codemirror_mode": {
    "name": "ipython",
    "version": 3
   },
   "file_extension": ".py",
   "mimetype": "text/x-python",
   "name": "python",
   "nbconvert_exporter": "python",
   "pygments_lexer": "ipython3",
   "version": "3.10.13"
  }
 },
 "nbformat": 4,
 "nbformat_minor": 2
}
