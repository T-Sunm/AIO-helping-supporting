{
 "cells": [
  {
   "cell_type": "code",
   "execution_count": 5,
   "metadata": {},
   "outputs": [
    {
     "name": "stdout",
     "output_type": "stream",
     "text": [
      "Hệ số tương quan giữa X và Y là: 1.0\n"
     ]
    }
   ],
   "source": [
    "import numpy as np\n",
    "\n",
    "X = np.array([1, 2, 3, 4, 5])\n",
    "Y = np.array([2, 4, 6, 8, 10])\n",
    "\n",
    "\n",
    "meanX = np.mean(X)\n",
    "meanY = np.mean(Y)\n",
    "\n",
    "X = X - meanX\n",
    "Y = Y - meanY\n",
    "\n",
    "r = (np.einsum('i,i -> ', X, Y) / np.sqrt(np.einsum('i,i ->', X, X) * np.einsum('i,i ->', Y, Y)))\n",
    "print (\"Hệ số tương quan giữa X và Y là:\", r)"
   ]
  },
  {
   "cell_type": "markdown",
   "metadata": {},
   "source": [
    "- Phần tử ở vị trí [0, 1] và [1, 0] là hệ số tương quan giữa **X** và **Y** , Đây là giá trị cần tìm để hiểu mức độ tương quan tuyến tính giữa **X** và **Y**, $corr(X,Y) = corr(Y,X)$"
   ]
  },
  {
   "cell_type": "code",
   "execution_count": 9,
   "metadata": {},
   "outputs": [
    {
     "name": "stdout",
     "output_type": "stream",
     "text": [
      "1.0\n"
     ]
    }
   ],
   "source": [
    "X_new = np . array ([10 , 20 , 30 , 40 , 50])\n",
    "Y_new = np . array ([5 , 15 , 25 , 35 , 45])\n",
    "\n",
    "correlation_matrix = np.corrcoef(X_new, Y_new)\n",
    "correlation_coefficient = correlation_matrix[0, 1]# Lấy phần tử ở vị trí (0, 1) trong ma trận tương qua\n",
    "\n",
    "print(correlation_coefficient)"
   ]
  }
 ],
 "metadata": {
  "kernelspec": {
   "display_name": "40daysPython_env",
   "language": "python",
   "name": "python3"
  },
  "language_info": {
   "codemirror_mode": {
    "name": "ipython",
    "version": 3
   },
   "file_extension": ".py",
   "mimetype": "text/x-python",
   "name": "python",
   "nbconvert_exporter": "python",
   "pygments_lexer": "ipython3",
   "version": "3.10.13"
  }
 },
 "nbformat": 4,
 "nbformat_minor": 2
}
