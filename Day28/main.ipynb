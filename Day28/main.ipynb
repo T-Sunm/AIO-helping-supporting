{
 "cells": [
  {
   "cell_type": "markdown",
   "metadata": {},
   "source": [
    "**Excercise 1**"
   ]
  },
  {
   "cell_type": "code",
   "execution_count": 2,
   "metadata": {},
   "outputs": [
    {
     "name": "stdout",
     "output_type": "stream",
     "text": [
      "[12 15 18]\n"
     ]
    }
   ],
   "source": [
    "import numpy as np\n",
    "A = np.array([[1, 2, 3], [4, 5, 6], [7, 8, 9]])\n",
    "column_sums = np.einsum('ij -> j', A)\n",
    "print (column_sums) # Output : [12 15 18]"
   ]
  },
  {
   "cell_type": "markdown",
   "metadata": {},
   "source": [
    "**Excercise 2**"
   ]
  },
  {
   "cell_type": "code",
   "execution_count": 7,
   "metadata": {},
   "outputs": [
    {
     "name": "stdout",
     "output_type": "stream",
     "text": [
      "70\n"
     ]
    }
   ],
   "source": [
    "import numpy as np\n",
    "\n",
    "A = np.array([[1, 2], [3, 4]])\n",
    "B = np.array([[5, 6], [7, 8]])\n",
    "\n",
    "dot_product = np.einsum('ij,ij ->', A, B)\n",
    "print(dot_product)\n"
   ]
  },
  {
   "cell_type": "code",
   "execution_count": 8,
   "metadata": {},
   "outputs": [
    {
     "name": "stdout",
     "output_type": "stream",
     "text": [
      "15\n"
     ]
    }
   ],
   "source": [
    "import numpy as np\n",
    "\n",
    "A = np . array ([[1, 2, 3], [4, 5, 6], [7, 8, 9]])\n",
    "diagonal_sum = np.einsum('ii->', A)\n",
    "print (diagonal_sum) # Output : 15"
   ]
  },
  {
   "cell_type": "code",
   "execution_count": 12,
   "metadata": {},
   "outputs": [
    {
     "name": "stdout",
     "output_type": "stream",
     "text": [
      "[[19 22]\n",
      " [43 50]]\n"
     ]
    }
   ],
   "source": [
    "import numpy as np\n",
    "\n",
    "A = np.array([[1, 2], [3, 4]])\n",
    "B = np.array([[5, 6], [7, 8]])\n",
    "\n",
    "dot_product = np.einsum('ij,jk -> ik ', A, B)\n",
    "print(dot_product)\n"
   ]
  },
  {
   "cell_type": "code",
   "execution_count": 14,
   "metadata": {},
   "outputs": [
    {
     "name": "stdout",
     "output_type": "stream",
     "text": [
      "[[ 4  5  6]\n",
      " [ 8 10 12]\n",
      " [12 15 18]]\n"
     ]
    }
   ],
   "source": [
    "import numpy as np\n",
    "\n",
    "a = np.array([1, 2, 3])\n",
    "b = np.array([4, 5, 6])\n",
    "outer_product =np.einsum('i,j -> ij', a, b)\n",
    "print (outer_product) "
   ]
  },
  {
   "cell_type": "code",
   "execution_count": 8,
   "metadata": {},
   "outputs": [
    {
     "name": "stdout",
     "output_type": "stream",
     "text": [
      "Features sau khi reshape:\n",
      " [[0.4440415  0.69470015 0.58443806 0.21208644 0.1351421  0.79990531\n",
      "  0.51908618 0.16737974 0.2383342  0.39092763 0.62605942 0.9680278\n",
      "  0.31674121 0.62904514 0.67112397 0.63115028]\n",
      " [0.64077305 0.58023377 0.16220528 0.37972399 0.51952367 0.10900104\n",
      "  0.20993916 0.33292696 0.04114273 0.63127116 0.09929257 0.93060506\n",
      "  0.60562416 0.05782348 0.80330183 0.86452291]\n",
      " [0.35129653 0.86568978 0.94265554 0.25202463 0.93007555 0.42188425\n",
      "  0.1025197  0.85836053 0.70243886 0.08306646 0.89904447 0.6030863\n",
      "  0.62363813 0.98161573 0.43865421 0.33248415]]\n",
      "Ma trận Gram cuối cùng:\n",
      " [[4.90534466 3.71761372 4.68760744]\n",
      " [3.71761372 4.39336174 3.6185876 ]\n",
      " [4.68760744 3.6185876  6.94303547]]\n"
     ]
    }
   ],
   "source": [
    "import numpy as np\n",
    "\n",
    "def gram_matrix(tensor: np.ndarray):\n",
    "    # tensor có kích thước (channels, height, width)\n",
    "    channels, height, width = tensor.shape\n",
    "    # Chuyển tensor thành ma trận 2D có kích thước (channels, height * width)\n",
    "    features = tensor.reshape(channels, height * width)\n",
    "    print(\"Features sau khi reshape:\\n\", features)\n",
    "    # Tính Gram matrix sử dụng dot product với einsum\n",
    "    gram = np.einsum('ik,jk->ij', features, features)\n",
    "    return gram\n",
    "\n",
    "\n",
    "# Tạo tensor ngẫu nhiên với kích thước (channels, height, width)\n",
    "tensor = np.random.rand(3, 4, 4)\n",
    "gram = gram_matrix(tensor)\n",
    "print(\"Ma trận Gram cuối cùng:\\n\", gram)"
   ]
  },
  {
   "cell_type": "markdown",
   "metadata": {},
   "source": [
    "\n",
    "Gram Matrix $G$ có kích thước $(C, C)$ và được tính bằng công thức:\n",
    "- Cách 1 : không cần nhân chuyển vị khi tích vô hướng\n",
    "$\\begin{equation}\n",
    "G_{ij} = \\sum_{k} F_{ik} F_{jk}\n",
    "\\end{equation}$\n",
    "\n",
    "- Cách 2 : Nhân với ma trận chuyển vị \n",
    "$\\begin{equation}\n",
    "G_{ik} = \\sum_{j} F_{ij} {F^{T}}_{jk}\n",
    "\\end{equation}$\n"
   ]
  },
  {
   "cell_type": "code",
   "execution_count": 7,
   "metadata": {},
   "outputs": [
    {
     "name": "stdout",
     "output_type": "stream",
     "text": [
      "Ma trận V:\n",
      "[[1 2 3]\n",
      " [4 5 6]]\n",
      "\n",
      "Ma trận chuyển vị của V, V^T:\n",
      "[[1 4]\n",
      " [2 5]\n",
      " [3 6]]\n",
      "\n",
      "Ma trận Gram đúng, sử dụng 'ik,jk -> ij':\n",
      "[[14 32]\n",
      " [32 77]]\n",
      "\n",
      "Ma trận Gram đúng, sử dụng 'ij,jk -> ik':\n",
      "[[14 32]\n",
      " [32 77]]\n"
     ]
    }
   ],
   "source": [
    "import numpy as np\n",
    "\n",
    "V = np.array([[1, 2, 3], [4, 5, 6]])\n",
    "V_transpose = V.T\n",
    "\n",
    "\n",
    "gram_correct = np.einsum('ik,jk -> ij', V, V)\n",
    "\n",
    "# từng hàng của của ma trận A nhân lần lượt với hàng của A_T\n",
    "gram_correct2 = np.einsum('ij,jk -> ik', V, V_transpose)\n",
    "print(\"Ma trận V:\")\n",
    "print(V)\n",
    "print(\"\\nMa trận chuyển vị của V, V^T:\")\n",
    "print(V_transpose)\n",
    "print(\"\\nMa trận Gram đúng, sử dụng 'ik,jk -> ij':\")\n",
    "print(gram_correct)\n",
    "print(\"\\nMa trận Gram đúng, sử dụng 'ij,jk -> ik':\")\n",
    "print(gram_correct2)"
   ]
  }
 ],
 "metadata": {
  "kernelspec": {
   "display_name": "40daysPython_env",
   "language": "python",
   "name": "python3"
  },
  "language_info": {
   "codemirror_mode": {
    "name": "ipython",
    "version": 3
   },
   "file_extension": ".py",
   "mimetype": "text/x-python",
   "name": "python",
   "nbconvert_exporter": "python",
   "pygments_lexer": "ipython3",
   "version": "3.10.13"
  }
 },
 "nbformat": 4,
 "nbformat_minor": 2
}
