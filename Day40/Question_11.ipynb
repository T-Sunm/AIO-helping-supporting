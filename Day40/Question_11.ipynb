{
 "cells": [
  {
   "cell_type": "markdown",
   "metadata": {},
   "source": [
    "\n",
    "- $x$ là số lượng chó.\n",
    "- $y$ là số lượng gà.\n",
    "\n",
    "\n",
    "Chúng ta có hệ phương trình:\n",
    "$$\\begin{aligned}\n",
    "    x + y &= 36 \\\\\n",
    "    4x + 2y &= 100\n",
    "\\end{aligned}$$\n",
    "\n",
    "==> $x = 14$ và $y = 22$"
   ]
  },
  {
   "cell_type": "code",
   "execution_count": 1,
   "metadata": {},
   "outputs": [
    {
     "name": "stdout",
     "output_type": "stream",
     "text": [
      "Accuracy : 0.7777777777777778\n",
      "Precision and Recall :0.8 - 0.5714285714285714\n",
      "F1 Score : 0.6666666666666666\n",
      "Specificity : 0.9090909090909091\n"
     ]
    }
   ],
   "source": [
    "TP = 80\n",
    "FP = 20\n",
    "TN = 200\n",
    "FN = 60\n",
    "\n",
    "Accuracy = (TP + TN) / (TP + TN + FP + FN)\n",
    "Precision = (TP / (TP + FP))\n",
    "Recall = (TP / (TP + FN))\n",
    "F1_Score = 2 * ((Precision * Recall) / (Precision + Recall))\n",
    "Specificity = TN / (TN + FP)\n",
    "\n",
    "print(\"Accuracy :\", Accuracy)\n",
    "print(f\"Precision and Recall :{Precision} - {Recall}\")\n",
    "print(\"F1 Score :\", F1_Score)\n",
    "print(\"Specificity :\", Specificity)"
   ]
  },
  {
   "cell_type": "markdown",
   "metadata": {},
   "source": [
    "12. Những ý nào dưới đây là một vài mẹo cơ bản trong việc lựa chọn K trong thuật toán KNN mà không phải xét thêm trọng số ? (Đánh giá dựa trên độ phức tạp của thuật toán.)\n",
    "- Thay vì quét cạn mới chọn được K thì có 2 cách khác: KD Tree và Ball Tree, Nó tối ưu hơn trong việc xác định"
   ]
  },
  {
   "cell_type": "markdown",
   "metadata": {},
   "source": [
    "13\n",
    "- **K nhỏ**: Khi K nhỏ (ví dụ: K = 1), mô hình sẽ dựa rất nhiều vào các điểm gần nhất, điều này làm cho mô hình trở nên phức tạp hơn và có thể điều chỉnh rất tốt theo dữ liệu huấn luyện, dẫn đến variance cao (quá nhạy với dữ liệu huấn luyện) và bias thấp (vì mô hình cố gắng khớp chính xác các điểm dữ liệu). Tuy nhiên, điều này có thể dẫn đến overfitting.\n",
    "- **K lớn**: Khi tăng K, mô hình sẽ tính trung bình trên nhiều điểm lân cận hơn, giúp giảm tác động của các điểm nhiễu (giảm variance), nhưng đồng thời mô hình sẽ bỏ qua một số chi tiết quan trọng trong dữ liệu, dẫn đến bias cao (mô hình trở nên quá đơn giản và không thể nắm bắt hết các mối quan hệ trong dữ liệu). Điều này có thể dẫn đến underfitting."
   ]
  }
 ],
 "metadata": {
  "kernelspec": {
   "display_name": "40daysPython_env",
   "language": "python",
   "name": "python3"
  },
  "language_info": {
   "codemirror_mode": {
    "name": "ipython",
    "version": 3
   },
   "file_extension": ".py",
   "mimetype": "text/x-python",
   "name": "python",
   "nbconvert_exporter": "python",
   "pygments_lexer": "ipython3",
   "version": "3.10.13"
  }
 },
 "nbformat": 4,
 "nbformat_minor": 2
}
